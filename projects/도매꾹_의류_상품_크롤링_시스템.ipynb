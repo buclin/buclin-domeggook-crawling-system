{
 "cells": [
  {
   "cell_type": "markdown",
   "id": "ab33540d-2f05-4aee-8048-12747fa18918",
   "metadata": {},
   "source": [
    "# 도매꾹 의류 상품 크롤링 시스템"
   ]
  },
  {
   "cell_type": "code",
   "execution_count": 1,
   "id": "793b78a3-c90c-4a62-900a-2e9443b1f573",
   "metadata": {},
   "outputs": [],
   "source": [
    "from selenium.webdriver.common.by import By\n",
    "from selenium import webdriver\n",
    "from selenium.webdriver.chrome.options import Options\n",
    "from selenium.webdriver.support.ui import WebDriverWait\n",
    "from selenium.webdriver.support import expected_conditions as EC\n",
    "import re\n",
    "from selenium.webdriver.common.keys import Keys\n",
    "import time\n",
    "import random\n",
    "import pandas as pd\n",
    "import ast"
   ]
  },
  {
   "cell_type": "markdown",
   "id": "a34dce44-ebea-4eb6-a65b-d07da07db90f",
   "metadata": {},
   "source": [
    "### 판매가 공식\n",
    "\n",
    "$${ 판매가 = {{수익 + 공급가} \\over {1-수수료(퍼센트) - 리워드(퍼센트)}}}$$\n",
    "\n",
    "$${ 십의 자리 반내림 }$$"
   ]
  },
  {
   "cell_type": "code",
   "execution_count": 2,
   "id": "133f7c23-b85b-4734-9d27-49d313e3547c",
   "metadata": {},
   "outputs": [],
   "source": [
    "PG_TAX_PERCENT = 0.018\n",
    "REWARD_RATE = 0.03\n",
    "PROFIT_RATE = 0.1\n",
    "MARGIN_RATE = 0.1\n",
    "CREATED_AT = \"2024-03-29 00:00:00.000000\"\n",
    "UPDATED_AT = \"2024-03-29 00:00:00.000000\""
   ]
  },
  {
   "cell_type": "code",
   "execution_count": null,
   "id": "f7fc74b9-3a36-425e-86b8-eb463cdd1377",
   "metadata": {},
   "outputs": [],
   "source": []
  },
  {
   "cell_type": "code",
   "execution_count": 3,
   "id": "7665a4ef-30af-4353-8f27-79137dbc853a",
   "metadata": {},
   "outputs": [],
   "source": [
    "def round_ten(price):\n",
    "    remainder = price % 10\n",
    "    return price + (10 - remainder)"
   ]
  },
  {
   "cell_type": "code",
   "execution_count": 4,
   "id": "1ef43b75-c663-407a-be5f-356b4047e18b",
   "metadata": {},
   "outputs": [],
   "source": [
    "def get_sale_price(supply_price, reward_rate):\n",
    "    sale_price = round((supply_price + supply_price * PROFIT_RATE) / (1 - PG_TAX_PERCENT - reward_rate))\n",
    "    return round_ten(sale_price)"
   ]
  },
  {
   "cell_type": "code",
   "execution_count": 5,
   "id": "b7bb74bc-b480-4177-a05d-a021f1ef1d42",
   "metadata": {},
   "outputs": [
    {
     "data": {
      "text/plain": [
       "22540"
      ]
     },
     "execution_count": 5,
     "metadata": {},
     "output_type": "execute_result"
    }
   ],
   "source": [
    "get_sale_price(19500,0.03)"
   ]
  },
  {
   "cell_type": "code",
   "execution_count": null,
   "id": "80a830f0-2e03-4933-8984-d82e399577b1",
   "metadata": {},
   "outputs": [],
   "source": []
  },
  {
   "cell_type": "code",
   "execution_count": 6,
   "id": "dcfd0b02-e129-4e5a-b15a-4d83e1053299",
   "metadata": {},
   "outputs": [],
   "source": [
    "tax_status = {\n",
    "    'TAX':'TAX',\n",
    "\t'ZERO_TAX_RATE':'ZERO_TAX_RATE',\n",
    "\t'TAX_EXEMPTION':'TAX_EXEMPTION'\n",
    "}"
   ]
  },
  {
   "cell_type": "code",
   "execution_count": 7,
   "id": "ce94f549-b1eb-405a-a6f3-bc7ec381de29",
   "metadata": {},
   "outputs": [],
   "source": [
    "product_status = {\n",
    "    'ACTIVE':'ACTIVE',\n",
    "\t'OUT_OF_STOCK':'OUT_OF_STOCK',\n",
    "\t'SOLD_OUT':'SOLD_OUT',\n",
    "\t'DISCONTINUED':'DISCONTINUED'\n",
    "}"
   ]
  },
  {
   "cell_type": "code",
   "execution_count": 3,
   "id": "6927d5ae-6aee-48e5-94cf-b06552786192",
   "metadata": {},
   "outputs": [],
   "source": [
    "brand_name = [\n",
    "    {'name': 'Styloo', 'ko_name': '스타이루', 'id': 1},\n",
    "    {'name': 'Serenity', 'ko_name': '세레니티', 'id': 2},\n",
    "    {'name': 'Canvas Style', 'ko_name': '캔버스 스타일', 'id': 3},\n",
    "    {'name': 'Lumina', 'ko_name': '루미나', 'id': 4},\n",
    "    {'name': 'WOVEN', 'ko_name': '워벤', 'id': 5},\n",
    "    {'name': 'Aether', 'ko_name': '에테르', 'id': 6},\n",
    "    {'name': 'Bloomer', 'ko_name': '블루머', 'id': 7},\n",
    "    {'name': 'Iris Eye', 'ko_name': '아이리스 아이', 'id': 8},\n",
    "    {'name': 'Sweet Ander', 'ko_name': '스위트 앤더', 'id': 9},\n",
    "    {'name': 'Prismer', 'ko_name': '프리즈머', 'id': 10},\n",
    "    {'name': 'Sage Style', 'ko_name': '세이지 스타일', 'id': 11},\n",
    "    {'name': 'Violet Bloom', 'ko_name': '바이올렛 블룸', 'id': 12},\n",
    "    {'name': 'Clover Kiss', 'ko_name': '클로버 키스', 'id': 13},\n",
    "    {'name': 'Honey Candy', 'ko_name': '허니 캔디', 'id': 14},\n",
    "    {'name': 'Pluto', 'ko_name': '플루토', 'id': 15},\n",
    "    {'name': 'CALLUNA', 'ko_name': '칼루나', 'id': 16},\n",
    "    {'name': 'Twila', 'ko_name': '트와일라', 'id': 17},\n",
    "    {'name': 'Velvetine', 'ko_name': '벨베틴', 'id': 18},\n",
    "    {'name': 'AvaLys', 'ko_name': '아바리스', 'id': 19},\n",
    "    {'name': 'VelaAva', 'ko_name': '벨라아바', 'id': 20}\n",
    "]"
   ]
  },
  {
   "cell_type": "code",
   "execution_count": 9,
   "id": "0e5121da-3961-41d5-81f0-77c4b085ede4",
   "metadata": {},
   "outputs": [],
   "source": [
    "option_key = {\n",
    "    'COLOR':'COLOR',\n",
    "\t'SIZE':'SIZE',\n",
    "\t'TYPE':'TYPE'\n",
    "}"
   ]
  },
  {
   "cell_type": "code",
   "execution_count": 10,
   "id": "c906f7b6-c52d-4d96-90d2-ea54a8abf83d",
   "metadata": {},
   "outputs": [],
   "source": [
    "def find_brand_by_name(brand_list):\n",
    "    while True:\n",
    "        input_name = input(\"브랜드 명을 작성해주세요. (RANDOM_BRAND: 무작위로 브랜드명 입력)\");\n",
    "        if \"RANDOM_BRAND\" == input_name:\n",
    "            return brand_name[random.randint(0, len(brand_list) - 1)]\n",
    "        for brand in brand_list:\n",
    "            if brand['name'] == input_name:\n",
    "                return brand\n",
    "        print(\"해당 브랜드는 없습니다. 다시 작성해주세요.\")"
   ]
  },
  {
   "cell_type": "markdown",
   "id": "6bb431a3-c2eb-42e1-99c4-98d5aba3f7ed",
   "metadata": {},
   "source": [
    "### 가져올 데이터\n",
    "- productCategory: 제품 카테고리 ex) 아우터: (코트, 가디건,...), 상의(티셔츠, 맨투맨,...), 하의(데님 팬츠,...)\n",
    "- 상품 브랜드 ex) 직접 입력\n",
    "- 상품 옵션 ex) 빨강, 스웨터 레드\n",
    "- 상품 이름 ex\n",
    "- 상품 코드 ex\n",
    "- 배송 정보 ex 당일출고 (평균출고일 0.4 일) 빠른배송\n",
    "- 브랜드 이름\n",
    "- 제조사 이름\n",
    "- 공급사 이름\n",
    "- 공급사 사이트 url\n",
    "- 공급사 공급 가격\n",
    "- 세일 비율\n",
    "- 소비자 가격\n",
    "- 판매 가격\n",
    "- 세금 상태\n",
    "- 소비자 리워드 비율\n",
    "- 비즈니스 리워드 비율\n",
    "- 상품 썸네일 이미지 경로\n",
    "- 상품 상세 이미지 경로\n",
    "- 상품 상태\n",
    "- 상품 우선 순위: 직접 입력, 임의 지정\n",
    "- 노출 유무\n",
    "- 옵션 멀티 가능 유무\n",
    "- 다 판매 시 타이틀\n",
    "- 오늘 관출 조절 수"
   ]
  },
  {
   "cell_type": "markdown",
   "id": "a45aa514-e839-4153-ad70-f5b4051f369d",
   "metadata": {},
   "source": [
    "### 상품 옵션\n",
    "- product_id\n",
    "- sku_code\n",
    "- option_key\n",
    "- option_value\n",
    "- option_sequence\n",
    "- product_qty\n",
    "- max_order_qty\n",
    "- min_order_qty\n",
    "- option_extra_amount\n",
    "- is_exposed"
   ]
  },
  {
   "cell_type": "code",
   "execution_count": 11,
   "id": "ebb4cd35-420d-438f-a477-3528dcb43c5b",
   "metadata": {},
   "outputs": [],
   "source": [
    "product_option_data = {\n",
    "    \"product_id\":\"\",\n",
    "    \"sku_code\":\"\",\n",
    "    \"option_key\":\"\",\n",
    "    \"option_value\":\"\",\n",
    "    \"option_sequence\":\"\",\n",
    "    \"product_qty\":\"\",\n",
    "    \"max_order_qty\":\"\",\n",
    "    \"min_order_qty\":\"\",\n",
    "    \"option_extra_amount\":\"\",\n",
    "    \"is_exposed\":\"\",\n",
    "}"
   ]
  },
  {
   "cell_type": "markdown",
   "id": "29ad98a0-0e94-4daa-a019-749997a4c54d",
   "metadata": {},
   "source": [
    "### 예시\n",
    "- http://domeggook.com/41493074?from=lstGen\n",
    "- 사진 사용 여부: true, false\n",
    "- 제품 카테고리 ex) 맨투맨 -> 번호\n",
    "- 상품 브랜드 ex) 직접 입력, 임의 선택 : [\"styloo\", \"feel good\",...]\n",
    "- 상품 옵션 ex) 블랙 XL, 그레이 115-XL : 블랙 \n",
    "- 상품 이름 ex) 여자 오버핏 얇은 맨투맨 무지티 커플맨투맨 긴팔티 빅사이즈\n",
    "- 상품 코드 ex) 형식에 맞게 자동 작성\n",
    "- 배송 정보 ex) 당일출고 (평균출고일 0.4 일) 빠른배송\n",
    "- 브랜드 이름 ex) 직접 입력\n",
    "- 제조사 이름 ex) edinscompany2\n",
    "- 공급사 이름 ex) 도매꾹\n",
    "- 공급사 사이트 url ex) http://domeggook.com/41493074?from=lstGen\n",
    "- 공급사 공급 가격 ex) 7900\n",
    "- 세일 비율 e\n",
    "- 소비자 가격\n",
    "- 판매 가격\n",
    "- 세금 상태 (TAX, ZERO_TAX_RATE, TAX_EXEMPTION)\n",
    "- 소비자 리워드 비율\n",
    "- 비즈니스 리워드 비율\n",
    "- 상품 썸네일 이미지 경로\n",
    "http://cdn1.domeggook.com/upload/item/2023/10/09/16968620268A659DB5C27F2BC4F60AF5/16968620268A659DB5C27F2BC4F60AF5_img_760?hash=fae76db097253dd6c028fc1a1bfb5c31\n",
    "- 상품 상세 이미지 경로\n",
    "https://superwhale.co.kr/web/upload/NNEditor/20231008/EC9687EC9D80EAB3B5EC9AA9EC98A4EBB284ED958FEBA7A8ED88ACEBA7A8-EC97ACEC84B1EB8F84EBA7A4.jpg\n",
    "- 상품 상태: ex) (ACTIVE, OUT_OF_STOCK, SOLD_OUT, DISCONTINUED)\n",
    "- 상품 우선 순위: 직접 입력, 임의 지정\n",
    "- 노출 유무: ex) True, False\n",
    "- 옵션 멀티 가능 유무: True, False\n",
    "- 다 판매 시 타이틀: ex) 다 팔렸습니다.\n",
    "- 오늘 관출 조절 수: ex) 0"
   ]
  },
  {
   "cell_type": "code",
   "execution_count": 13,
   "id": "66b3af3a-998c-4355-80df-165c7aa128b2",
   "metadata": {},
   "outputs": [],
   "source": [
    "data_frame = {\n",
    "    'id': \"\",\n",
    "    'isUsePhoto':\"\",\n",
    "    'product_category_id':\"\",\n",
    "    'product_brand_id':\"\",\n",
    "    'productOptions':\"\",\n",
    "    'name':\"\",\n",
    "    'product_code':\"\",\n",
    "    'shipping_info_id': \"\",\n",
    "    'brand_name': \"\",\n",
    "    'manufacturer_name': \"\",\n",
    "    'supplier_name':\"\",\n",
    "    'supplier_url': \"\",\n",
    "    'supply_price': \"\",\n",
    "    'discount_rate': \"\",\n",
    "    'consumer_price': \"\",\n",
    "    'sale_price': \"\",\n",
    "    'tax_status': \"\",\n",
    "    'consumer_reward_rate':\"\",\n",
    "    'business_reward_rate':\"\",\n",
    "    'image_path':\"\",\n",
    "    'detail_image_path':\"\",\n",
    "    'product_status':\"\",\n",
    "    'product_priority':\"\",\n",
    "    'is_exposed':\"\",\n",
    "    'is_available_multiple_option':\"\",\n",
    "    'sale_alternatives':\"\",\n",
    "    'prod_obs_ctrl_num':\"\",\n",
    "    'created_at': '',\n",
    "    'updated_at': '',\n",
    "    'tax_rate': '',\n",
    "    'margin_rate': '',\n",
    "}"
   ]
  },
  {
   "cell_type": "code",
   "execution_count": 14,
   "id": "f8a8f6f0-e433-4960-a968-af1477c620cd",
   "metadata": {},
   "outputs": [],
   "source": [
    "data = {\n",
    "    'id': [],\n",
    "    'isUsePhoto':[],\n",
    "    'product_category_id':[],\n",
    "    'product_brand_id':[],\n",
    "    'productOptions':[], # 리스트 형식\n",
    "    'name':[],\n",
    "    'product_code':[],\n",
    "    'shipping_info_id': [],\n",
    "    'brand_name': [],\n",
    "    'manufacturer_name': [],\n",
    "    'supplier_name':[],\n",
    "    'supplier_url': [],\n",
    "    'supply_price': [],\n",
    "    'discount_rate': [],\n",
    "    'consumer_price': [],\n",
    "    'sale_price': [],\n",
    "    'tax_status': [],\n",
    "    'consumer_reward_rate':[],\n",
    "    'business_reward_rate':[],\n",
    "    'image_path':[],\n",
    "    'detail_image_path':[],\n",
    "    'product_status':[],\n",
    "    'product_priority':[],\n",
    "    'is_exposed':[],\n",
    "    'is_available_multiple_option':[],\n",
    "    'sale_alternatives':[],\n",
    "    'prod_obs_ctrl_num':[],\n",
    "    'created_at': [],\n",
    "    'updated_at': [],\n",
    "    'tax_rate': [],\n",
    "    'margin_rate': [],\n",
    "}"
   ]
  },
  {
   "cell_type": "code",
   "execution_count": 15,
   "id": "5bcdefdc-9eef-4b03-8905-800c6906d5fb",
   "metadata": {},
   "outputs": [
    {
     "name": "stdout",
     "output_type": "stream",
     "text": [
      "[Errno 2] No such file or directory: './data/cloth_data/first_data/domeggok_cloth_data.csv'\n"
     ]
    }
   ],
   "source": [
    "cloth_data_path = \"./data/cloth_data/first_data/domeggok_cloth_data.csv\"\n",
    "\n",
    "try:\n",
    "    df = pd.read_csv(cloth_data_path)\n",
    "    data_record_list = df.to_dict(orient='records')\n",
    "    for data_record in data_record_list:\n",
    "        for key, value in data.items():\n",
    "            if key == \"productOptions\":\n",
    "                data[key].append(ast.literal_eval(data_record[key]))\n",
    "            else:\n",
    "                data[key].append(data_record[key])\n",
    "except Exception as e:\n",
    "    print(e)\n",
    "    pass"
   ]
  },
  {
   "cell_type": "code",
   "execution_count": 16,
   "id": "866bdd3a-109f-4f19-bc19-ad080fd83b6a",
   "metadata": {
    "scrolled": true
   },
   "outputs": [
    {
     "data": {
      "text/plain": [
       "{'id': [],\n",
       " 'isUsePhoto': [],\n",
       " 'product_category_id': [],\n",
       " 'product_brand_id': [],\n",
       " 'productOptions': [],\n",
       " 'name': [],\n",
       " 'product_code': [],\n",
       " 'shipping_info_id': [],\n",
       " 'brand_name': [],\n",
       " 'manufacturer_name': [],\n",
       " 'supplier_name': [],\n",
       " 'supplier_url': [],\n",
       " 'supply_price': [],\n",
       " 'discount_rate': [],\n",
       " 'consumer_price': [],\n",
       " 'sale_price': [],\n",
       " 'tax_status': [],\n",
       " 'consumer_reward_rate': [],\n",
       " 'business_reward_rate': [],\n",
       " 'image_path': [],\n",
       " 'detail_image_path': [],\n",
       " 'product_status': [],\n",
       " 'product_priority': [],\n",
       " 'is_exposed': [],\n",
       " 'is_available_multiple_option': [],\n",
       " 'sale_alternatives': [],\n",
       " 'prod_obs_ctrl_num': [],\n",
       " 'created_at': [],\n",
       " 'updated_at': [],\n",
       " 'tax_rate': [],\n",
       " 'margin_rate': []}"
      ]
     },
     "execution_count": 16,
     "metadata": {},
     "output_type": "execute_result"
    }
   ],
   "source": [
    "data"
   ]
  },
  {
   "cell_type": "code",
   "execution_count": null,
   "id": "f117f52e-a6f7-4cf1-a133-119976f721c7",
   "metadata": {},
   "outputs": [],
   "source": []
  },
  {
   "cell_type": "markdown",
   "id": "4baf0f5e-f7b5-4fdc-9f26-a0c9c1098391",
   "metadata": {},
   "source": [
    "### 크롬 드라이버 연결"
   ]
  },
  {
   "cell_type": "code",
   "execution_count": 17,
   "id": "5d975644-e248-4e0a-a3a3-b2ce10749451",
   "metadata": {},
   "outputs": [],
   "source": [
    "options = Options()\n",
    "options.add_experimental_option(\"detach\", True)\n",
    "options.add_argument(\"--mute-audio\")\n",
    "options.add_argument(\"incognito\")\n",
    "options.add_experimental_option(\"excludeSwitches\",[\"enable-automation\"])\n",
    "options.add_experimental_option(\"excludeSwitches\",[\"enable-logging\"])"
   ]
  },
  {
   "cell_type": "code",
   "execution_count": 34,
   "id": "02deaa64-39f9-4d8e-b47b-2e59e9b87b50",
   "metadata": {},
   "outputs": [],
   "source": [
    "driver = webdriver.Chrome(options=options)"
   ]
  },
  {
   "cell_type": "code",
   "execution_count": null,
   "id": "9ee8754e-ba45-4c88-833d-ce3bfee048f9",
   "metadata": {},
   "outputs": [],
   "source": []
  },
  {
   "cell_type": "code",
   "execution_count": 19,
   "id": "6725b2a0-23c0-4c46-8ad6-ef518a3be79c",
   "metadata": {},
   "outputs": [],
   "source": [
    "domeggook_url = \"https://mirror1.domeggook.com/main/item/itemList.php\""
   ]
  },
  {
   "cell_type": "code",
   "execution_count": 20,
   "id": "0f183e3b-ea12-496d-96db-bc2cee2e93da",
   "metadata": {},
   "outputs": [],
   "source": [
    "domeggok_search_query_param = \"?mnp=&mxp=&mnq=&mxq=&dfos=false&sgd=1&sw=&so=da\"\n",
    "domeggok_search_url = domeggook_url + domeggok_search_query_param\n",
    "domeggokr_search_category = \"&ca=\""
   ]
  },
  {
   "cell_type": "code",
   "execution_count": 21,
   "id": "8356d260-f715-403c-9efb-58ac74f1b59b",
   "metadata": {},
   "outputs": [],
   "source": [
    "look_style_list = [\n",
    "    {\"id\":0,\"name\":\"캐주얼룩\"},\n",
    "    {\"id\":1,\"name\":\"러블리룩\"},\n",
    "    {\"id\":2,\"name\":\"스트릿룩\"},\n",
    "    {\"id\":3,\"name\":\"미니멀룩\"},\n",
    "    {\"id\":4,\"name\":\"오피스룩\"},\n",
    "    {\"id\":5,\"name\":\"스포티룩\"},\n",
    "    {\"id\":6,\"name\":\"사파리룩\"},\n",
    "    {\"id\":7,\"name\":\"데이트룩\"},\n",
    "    {\"id\":8,\"name\":\"레이어드룩\"},\n",
    "]"
   ]
  },
  {
   "cell_type": "code",
   "execution_count": 22,
   "id": "dbab2e7b-49e8-4a56-8b1b-33a2dd8fddce",
   "metadata": {},
   "outputs": [],
   "source": [
    "cloth_category = {\n",
    "    \"HOODIE\":{\"type\":\"HOODIE\", \"name\":\"후드티\", \"id\":11},\n",
    "\t\"SWEATER\":{\"type\":\"SWEATER\", \"name\":\"스웨터,니트\", \"id\":12},\n",
    "\t\"SHIRT\":{\"type\":\"SHIRT\", \"name\":\"셔츠\", \"id\":13},\n",
    "\t\"SWEATSHIRT\":{\"type\":\"SWEATSHIRT\", \"name\":\"맨투맨\", \"id\":14,\"look_style\":[look_style_list[0],look_style_list[2]]},\n",
    "\t\"T_SHIRT\":{\"type\":\"T_SHIRT\", \"name\":\"티셔츠\", \"id\":15},\n",
    "\t\"BLOUSE\":{\"type\":\"BLOUSE\", \"name\":\"블라우스\", \"id\":16},\n",
    "\t\"TANK_TOP\":{\"type\":\"TANK_TOP\", \"name\":\"민소매\", \"id\":17},\n",
    "\n",
    "    \"CARDIGAN\":{\"type\":\"CARDIGAN\", \"name\":\"가디건\", \"id\":21},\n",
    "\t\"ZIP_UP_AND_JUMPER\":{\"type\":\"ZIP_UP_AND_JUMPER\", \"name\":\"집업,점퍼\", \"id\":22},\n",
    "\t\"SAFARI_JACKET\":{\"type\":\"SAFARI_JACKET\", \"name\":\"야상,사파리\", \"id\":23},\n",
    "\t\"JACKET\":{\"type\":\"JACKET\", \"name\":\"자켓\", \"id\":24},\n",
    "\t\"COAT\":{\"type\":\"COAT\", \"name\":\"코트\", \"id\":25},\n",
    "\n",
    "    \"LONG_PANTS\":{\"type\":\"LONG_PANTS\", \"name\":\"롱팬츠\", \"id\":31},\n",
    "\t\"DENIM\":{\"type\":\"DENIM\",  \"name\":\"데님, 청바지\", \"id\":32},\n",
    "\t\"SLACKS\":{\"type\":\"SLACKS\", \"name\":\"슬랙스\", \"id\":33},\n",
    "\t\"STRAIGHT_PANTS\":{\"type\":\"STRAIGHT_PANTS\", \"name\":\"일자팬츠\", \"id\":34},\n",
    "\t\"SHORTS_PANTS\":{\"type\":\"SHORTS_PANTS\",  \"name\":\"숏팬츠, 반바지\", \"id\":35},\n",
    "\t\"SKINNY_JEANS\":{\"type\":\"SKINNY_JEANS\", \"name\":\"스키니\", \"id\":36},\n",
    "\n",
    "    \"NIGHT_DRESS\":{\"type\":\"NIGHT_DRESS\", \"name\":\"롱 원피스\", \"id\":41},\n",
    "\t\"SHORT_DRESS\":{\"type\":\"SHORT_DRESS\", \"name\":\"미니 원피스\", \"id\":42},\n",
    "\t\"MIDI_DRESS\":{\"type\":\"MIDI_DRESS\", \"name\":\"미디 원피스\", \"id\":43},\n",
    "    \n",
    "\t\"MINI_SKIRT\":{\"type\":\"MINI_SKIRT\", \"name\":\"미니 스커트\", \"id\":51},\n",
    "\t\"LONG_SKIRT\":{\"type\":\"LONG_SKIRT\", \"name\":\"롱 스커트\", \"id\":52},\n",
    "\t\"MIDI_SKIRT\":{\"type\":\"MIDI_SKIRT\", \"name\":\"미디 스커트\", \"id\":53},\n",
    "\n",
    "    \"OTHERS\":{\"type\":\"OTHERS\", \"name\":\"직접 확인\", \"id\":99}\n",
    "}"
   ]
  },
  {
   "cell_type": "code",
   "execution_count": 23,
   "id": "8a01081b-a24b-48c9-8683-ec182a1f8616",
   "metadata": {},
   "outputs": [],
   "source": [
    "seleceted_domeggok_search_params = [\n",
    "    {\"domeggok_title\":\"맨투맨티셔츠\",\"category_param\":'02_01_03_02_00', \"cloth_category_id\": [cloth_category[\"SWEATSHIRT\"]],\"look_style\":[look_style_list[0],look_style_list[2]]},\n",
    "    {\"domeggok_title\":\"라운드넥티셔츠\",\"category_param\":'02_01_03_01_00', \"cloth_category_id\": [cloth_category[\"T_SHIRT\"]],\"look_style\":[look_style_list[0],look_style_list[2],look_style_list[5]]},\n",
    "    {\"domeggok_title\":\"후드티셔츠\",\"category_param\":'02_01_03_08_00', \"cloth_category_id\": [cloth_category[\"HOODIE\"]],\"look_style\":[look_style_list[0],look_style_list[1],look_style_list[2],look_style_list[3],look_style_list[5]]},\n",
    "    {\"domeggok_title\":\"탱크탑/나시티셔츠\",\"category_param\":'02_01_03_11_00', \"cloth_category_id\": [cloth_category[\"TANK_TOP\"]],\"look_style\":[look_style_list[0],look_style_list[5]]},\n",
    "    {\"domeggok_title\":\"브이넥티셔츠\",\"category_param\":'02_01_03_03_00', \"cloth_category_id\": [cloth_category[\"T_SHIRT\"]],\"look_style\":[look_style_list[0],look_style_list[2],look_style_list[5]]},\n",
    "    {\"domeggok_title\":\"터틀넥티셔츠\",\"category_param\":'02_01_03_06_00', \"cloth_category_id\": [cloth_category[\"T_SHIRT\"]],\"look_style\":[]},\n",
    "    {\"domeggok_title\":\"소매롤업/7부티셔츠\",\"category_param\":'02_01_03_10_00', \"cloth_category_id\": [cloth_category[\"T_SHIRT\"]],\"look_style\":[]},\n",
    "    {\"domeggok_title\":\"오프숄더티셔츠\",\"category_param\":'02_01_03_05_00', \"cloth_category_id\": [cloth_category[\"T_SHIRT\"]],\"look_style\":[look_style_list[0],look_style_list[5],look_style_list[7]]},\n",
    "    {\"domeggok_title\":\"스퀘어넥티셔츠\",\"category_param\":'02_01_03_04_00', \"cloth_category_id\": [cloth_category[\"T_SHIRT\"]],\"look_style\":[look_style_list[0],look_style_list[1],look_style_list[7]]},\n",
    "\n",
    "    {\"domeggok_title\":\"카라셔츠/블라우스\",\"category_param\":'02_01_04_02_00', \"cloth_category_id\": [cloth_category[\"BLOUSE\"], cloth_category['SHIRT']],\"look_style\":[look_style_list[3],look_style_list[4]]},\n",
    "    {\"domeggok_title\":\"쉬폰/레이스블라우스\",\"category_param\":'02_01_04_04_00', \"cloth_category_id\": [cloth_category[\"BLOUSE\"], cloth_category['SHIRT']],\"look_style\":[look_style_list[3],look_style_list[4]]},\n",
    "    {\"domeggok_title\":\"롱/원피스형블라우스\",\"category_param\":'02_01_04_01_00', \"cloth_category_id\": [cloth_category[\"BLOUSE\"]],\"look_style\":[look_style_list[3],look_style_list[4]]},\n",
    "    {\"domeggok_title\":\"리본/셔링/프릴장식\",\"category_param\":'02_01_04_01_00', \"cloth_category_id\": [cloth_category[\"BLOUSE\"]],\"look_style\":[look_style_list[3],look_style_list[4]]},\n",
    "    {\"domeggok_title\":\"청남방/데님셔츠\",\"category_param\":'02_01_04_06_00', \"cloth_category_id\": [cloth_category[\"BLOUSE\"]],\"look_style\":[look_style_list[3],look_style_list[4]]},\n",
    "\n",
    "    {\"domeggok_title\":\"니트/스웨터\",\"category_param\":'02_01_05_00_00', \"cloth_category_id\": [cloth_category[\"SWEATER\"]],\"look_style\":[look_style_list[0],look_style_list[1],look_style_list[3],look_style_list[8]]},\n",
    "\n",
    "    {\"domeggok_title\":\"기본자켓\",\"category_param\":'02_01_02_01_00', \"cloth_category_id\": [cloth_category[\"JACKET\"]],\"look_style\":[look_style_list[3],look_style_list[8]]},\n",
    "    {\"domeggok_title\":\"베이직코트\",\"category_param\":'02_01_02_12_00', \"cloth_category_id\": [cloth_category[\"COAT\"]],\"look_style\":[look_style_list[3],look_style_list[4],look_style_list[8]]},\n",
    "    {\"domeggok_title\":\"미니/볼레로\",\"category_param\":'02_01_02_07_00', \"cloth_category_id\": [cloth_category[\"CARDIGAN\"]],\"look_style\":[look_style_list[0],look_style_list[1],look_style_list[7]]},\n",
    "    {\"domeggok_title\":\"트렌치코트\",\"category_param\":'02_01_02_11_00', \"cloth_category_id\": [cloth_category[\"COAT\"]],\"look_style\":[look_style_list[3],look_style_list[4],look_style_list[8]]},\n",
    "    {\"domeggok_title\":\"사파리/야상점퍼\",\"category_param\":'02_01_02_10_00', \"cloth_category_id\": [cloth_category[\"SAFARI_JACKET\"]],\"look_style\":[look_style_list[2],look_style_list[6],look_style_list[8]]},\n",
    "    {\"domeggok_title\":\"집업/점퍼/바람막이\",\"category_param\":'02_01_02_09_00', \"cloth_category_id\": [cloth_category[\"ZIP_UP_AND_JUMPER\"]],\"look_style\":[look_style_list[0],look_style_list[2]]},\n",
    "    {\"domeggok_title\":\"니트자켓/코트\",\"category_param\":'02_01_02_06_00', \"cloth_category_id\": [cloth_category[\"OTHERS\"]],\"look_style\":[]},\n",
    "    {\"domeggok_title\":\"후드자켓/점퍼\",\"category_param\":'02_01_02_02_00', \"cloth_category_id\": [cloth_category[\"ZIP_UP_AND_JUMPER\"]],\"look_style\":[look_style_list[0],look_style_list[2],look_style_list[8],]},\n",
    "    {\"domeggok_title\":\"청자켓\",\"category_param\":'02_01_02_05_00', \"cloth_category_id\": [cloth_category[\"JACKET\"]],\"look_style\":[look_style_list[0],look_style_list[2],]},\n",
    "    {\"domeggok_title\":\"가죽/라이더자켓\",\"category_param\":'02_01_02_04_00', \"cloth_category_id\": [cloth_category[\"JACKET\"]],\"look_style\":[look_style_list[2]]},\n",
    "\n",
    "    {\"domeggok_title\":\"가디건/조끼\",\"category_param\":'02_01_06_00_00', \"cloth_category_id\": [cloth_category[\"CARDIGAN\"]],\"look_style\":[look_style_list[0],look_style_list[1],look_style_list[3],look_style_list[8]]},\n",
    "    \n",
    "    {\"domeggok_title\":\"원피스\",\"category_param\":'02_02_01_00_00', \"cloth_category_id\": [cloth_category[\"NIGHT_DRESS\"], cloth_category['MIDI_DRESS'],cloth_category['MINI_SKIRT'],],\"look_style\":[look_style_list[1],look_style_list[7]]},\n",
    "    {\"domeggok_title\":\"미니원피스\",\"category_param\":'02_02_01_09_00', \"cloth_category_id\": [cloth_category['MINI_SKIRT'],],\"look_style\":[look_style_list[1],look_style_list[7]]},\n",
    "\n",
    "    {\"domeggok_title\":\"청바지\",\"category_param\":'02_02_03_00_00', \"cloth_category_id\": [cloth_category['DENIM'],],\"look_style\":[look_style_list[0],look_style_list[1],look_style_list[2],look_style_list[7],look_style_list[8]]},\n",
    "    {\"domeggok_title\":\"와이드/힙합청바지\",\"category_param\":'02_02_03_07_00', \"cloth_category_id\": [cloth_category['LONG_PANTS'],],\"look_style\":[look_style_list[0],look_style_list[2]]},\n",
    "    {\"domeggok_title\":\"반바지\",\"category_param\":'02_02_03_15_00', \"cloth_category_id\": [cloth_category['SHORTS_PANTS'],],\"look_style\":[look_style_list[0],look_style_list[2],look_style_list[5]]},\n",
    "    {\"domeggok_title\":\"바지&팬츠\",\"category_param\":'02_02_02_00_00', \"cloth_category_id\": [cloth_category['LONG_PANTS'],cloth_category['SHORTS_PANTS'],cloth_category['STRAIGHT_PANTS'],cloth_category['SLACKS'],cloth_category['DENIM'],cloth_category['SKINNY_JEANS']],\"look_style\":[look_style_list[0],look_style_list[2],look_style_list[5]]},\n",
    "    {\"domeggok_title\":\"일자바지\",\"category_param\":'02_02_02_01_00', \"cloth_category_id\": [cloth_category['STRAIGHT_PANTS']],\"look_style\":[look_style_list[0],look_style_list[3],look_style_list[4]]},\n",
    "    {\"domeggok_title\":\"통/와이드바지\",\"category_param\":'02_02_02_04_00', \"cloth_category_id\": [cloth_category['LONG_PANTS']],\"look_style\":[]},\n",
    "    {\"domeggok_title\":\"허리밴딩팬츠\",\"category_param\":'02_02_02_09_00', \"cloth_category_id\": [cloth_category['LONG_PANTS']],\"look_style\":[look_style_list[0]]},\n",
    "    {\"domeggok_title\":\"핫팬츠/반바지\",\"category_param\":'02_02_02_14_00', \"cloth_category_id\": [cloth_category['SHORTS_PANTS']],\"look_style\":[look_style_list[0],look_style_list[2],look_style_list[5]]},\n",
    "    {\"domeggok_title\":\"스키니진\",\"category_param\":'02_02_02_02_00', \"cloth_category_id\": [cloth_category['SKINNY_JEANS']],\"look_style\":[look_style_list[0],look_style_list[3],look_style_list[4]]},\n",
    "    {\"domeggok_title\":\"정장바지\",\"category_param\":'02_02_02_13_00', \"cloth_category_id\": [cloth_category['SLACKS']],\"look_style\":[look_style_list[0],look_style_list[3],look_style_list[4]]},\n",
    "    {\"domeggok_title\":\"카고바지\",\"category_param\":'02_02_02_06_00', \"cloth_category_id\": [cloth_category['LONG_PANTS']],\"look_style\":[look_style_list[2]]},\n",
    "\n",
    "    {\"domeggok_title\":\"치마/스커트\",\"category_param\":'02_02_04_00_00', \"cloth_category_id\": [cloth_category['LONG_SKIRT'],cloth_category['MINI_SKIRT'],cloth_category['MIDI_SKIRT']],\"look_style\":[look_style_list[2]]},\n",
    "]"
   ]
  },
  {
   "cell_type": "code",
   "execution_count": 24,
   "id": "3b340787-393c-4043-a5be-b39476a74458",
   "metadata": {},
   "outputs": [],
   "source": [
    "business_individually_purchas_name = [\"사업자 낱개구매가능\", \"사업자낱개구매가능\"]\n",
    "individually_purchas_name = \"낱개구매가능\"\n",
    "use_photo_title = \"사용허용\"\n",
    "consumer_reward_rate_range = [0.0, REWARD_RATE]\n",
    "\n",
    "sale_rate_range = [0.0,1.0]"
   ]
  },
  {
   "cell_type": "code",
   "execution_count": 25,
   "id": "1d45a654-1a89-4d8b-9118-cf12fa473ff8",
   "metadata": {},
   "outputs": [],
   "source": [
    "def select_cloth_category(clothCategoryList):\n",
    "    while True:\n",
    "        for clothCategory in clothCategoryList['cloth_category_id']:\n",
    "            print('id:',clothCategory['id'],'종류:',clothCategory['type'])\n",
    "\n",
    "        isOtherCategory = False\n",
    "        while True:\n",
    "            try:\n",
    "                isOtherCategory = int(input(\"이외 다른 의류 카테고리도 보시겠습니까? 0: No, 1: Yes\"))\n",
    "                if (isOtherCategory == 0):\n",
    "                    break\n",
    "                elif (isOtherCategory == 1):\n",
    "                    isOtherCategory = True\n",
    "                    break\n",
    "                else:\n",
    "                    print(\"잘못 입력 했습니다.\")\n",
    "            except Exception as e:\n",
    "                print(\"잘못 입력 했습니다.\")\n",
    "                pass\n",
    "\n",
    "        if (isOtherCategory):\n",
    "            for key, value in cloth_category.items():\n",
    "                print('id:',value['id'],'종류:',value['type'])\n",
    "            input_id = int(input('id 번호 입력:  (-1 입력시 다시 처음으로 돌아가기)'))\n",
    "\n",
    "            if (input_id == -1):\n",
    "                continue\n",
    "                \n",
    "            for key, value in cloth_category.items():\n",
    "                if value['id'] == input_id:\n",
    "                    return value\n",
    "            print(\"id 번호가 잘못 됐습니다.\\n\")\n",
    "            \n",
    "        \n",
    "        else:\n",
    "            try:\n",
    "                input_id = int(input('id 번호 입력:  (-1 입력시 다시 처음으로 돌아가기)'))\n",
    "                if (input_id == -1):\n",
    "                    continue\n",
    "            \n",
    "                for item in clothCategoryList['cloth_category_id']:\n",
    "                    if item['id'] == input_id:\n",
    "                        return item\n",
    "                    print(\"id 번호가 잘못 됐습니다.\\n\")\n",
    "            except Exception as e:\n",
    "                print(\"잘못 입력 했습니다.\")\n",
    "                pass"
   ]
  },
  {
   "cell_type": "code",
   "execution_count": null,
   "id": "d3dd6c57-2225-4d07-825d-d9b696bda655",
   "metadata": {},
   "outputs": [],
   "source": []
  },
  {
   "cell_type": "code",
   "execution_count": 26,
   "id": "66e0ccad-5a99-4379-8744-2c0fe2d011e2",
   "metadata": {},
   "outputs": [],
   "source": [
    "def convert_string_to_int_with_commas(string_number):\n",
    "    # 문자열에서 쉼표 제거 후 정수로 변환\n",
    "    number = int(string_number.replace(',', ''))\n",
    "    return number"
   ]
  },
  {
   "cell_type": "code",
   "execution_count": 27,
   "id": "90d26432-8b60-4619-b93d-a9f47f710d9f",
   "metadata": {},
   "outputs": [],
   "source": [
    "def create_product_code(category_type_id, category_data, data_num):\n",
    "    '''\n",
    "    인수 데이터 형식\n",
    "    {'type': 'SWEATSHIRT',\n",
    "     'name': '맨투맨',\n",
    "     'id': 14,\n",
    "     'look_style': [{'id': 0, 'name': '캐주얼룩'}, {'id': 2, 'name': '스트릿룩'}]}\n",
    "    '''\n",
    "    return int(str(category_type_id)+'{:03d}'.format(category_data['id'])+'{:08d}'.format(data_num + 1))"
   ]
  },
  {
   "cell_type": "code",
   "execution_count": 28,
   "id": "e526804b-c482-436b-b327-84692e4684a7",
   "metadata": {},
   "outputs": [],
   "source": [
    "def check_range(value,rate_range):\n",
    "    while True:\n",
    "        if rate_range[0] <= value <= rate_range[1]:\n",
    "            return value\n",
    "        else:\n",
    "            print(\"잘못 된 비율 입니다. \",value)"
   ]
  },
  {
   "cell_type": "code",
   "execution_count": 29,
   "id": "a01c0709-0d90-42dd-86e0-43fc572463c4",
   "metadata": {},
   "outputs": [],
   "source": [
    "def get_priority(data):\n",
    "    try:\n",
    "        input_priority = int(input('우선 순위 번호를 입력해주세요. (-1: 무작위 수, 그외 숫자: 직접입력'))\n",
    "        if (input_priority == -1):\n",
    "            priority_min = (len(str(len(data['product_priority'])))) * 10\n",
    "            priority_max = (len(str(len(data['product_priority'])))) * 100\n",
    "            num = random.randint(priority_min,priority_max)\n",
    "            return num\n",
    "        \n",
    "        if input_priority in data['product_priority']:\n",
    "            return input_priority\n",
    "    except Exception as e:\n",
    "        print(\"잘못 입력 했습니다.\")\n",
    "        pass"
   ]
  },
  {
   "cell_type": "code",
   "execution_count": 30,
   "id": "d123600a-2a1c-47fb-b457-4594643899c5",
   "metadata": {},
   "outputs": [],
   "source": [
    "def get_item_name(name):\n",
    "    print(\"상품 이름:\",name)\n",
    "    while True:\n",
    "        try:\n",
    "            is_selected = int(input(\"해당 상품 이름으로 하시곘습니까? 1: Yes, 0: No\"))\n",
    "            if is_selected == 1:\n",
    "                return name\n",
    "            elif is_selected == 0:\n",
    "                name = input(\"상품 이름을 넣어 주세요.\")\n",
    "                name_confirm = int(input(\"해당 상품 이름으로 확정하시겠습니까? 1: Yes, 0: No\"))\n",
    "                if name_confirm == 1:\n",
    "                    return name\n",
    "            else:\n",
    "                print(\"잘못된 입력입니다. 다시 입력해주세요.\")\n",
    "        except Exception as e:\n",
    "            pass"
   ]
  },
  {
   "cell_type": "code",
   "execution_count": null,
   "id": "cd24c772-dc88-46cc-bcf1-07b196ee1c3a",
   "metadata": {},
   "outputs": [],
   "source": []
  },
  {
   "cell_type": "code",
   "execution_count": 35,
   "id": "0addea52-c1dd-4a76-8b8b-1f5561890c93",
   "metadata": {},
   "outputs": [],
   "source": [
    "def main_func():\n",
    "    for s_cloth_category in seleceted_domeggok_search_params:\n",
    "        res = driver.get(f'{domeggok_search_url}{domeggokr_search_category}{s_cloth_category['category_param']}')\n",
    "        category_page_num = int(driver.find_element(By.CSS_SELECTOR,\"#lPage > form > span > b\").text)\n",
    "    \n",
    "        for num in range(category_page_num):\n",
    "            path = f'{domeggok_search_url}{domeggokr_search_category}{s_cloth_category['category_param']}&pg={num+1}'\n",
    "            print(path)\n",
    "            res = driver.get(path)\n",
    "            elements = driver.find_elements(By.CSS_SELECTOR,\"#lLst .lItemList\")\n",
    "            is_seeing = int(input(\"해당 페이지를 보시겠습니까? Yes:1, No:0, Next Cloth: -1\"))\n",
    "            if is_seeing == 0:\n",
    "                continue\n",
    "            if is_seeing == -1:\n",
    "                break\n",
    "                            \n",
    "            for element in elements:\n",
    "                \n",
    "                items = element.find_elements(By.CSS_SELECTOR,\"li\")\n",
    "        \n",
    "                for item in items:\n",
    "                    try:\n",
    "                        # child_elements = item.find_elements(By.CSS_SELECTOR,\"*\")\n",
    "                        # print(\"Child elements of li element:\", [element for element in child_elements])\n",
    "                        #li42340503 > div.amtqty > div.amt > b\n",
    "                        title_element = item.find_element(By.CSS_SELECTOR,\"div.main\")\n",
    "                        href_element = item.find_element(By.CSS_SELECTOR,\"div.main a\")\n",
    "                        amt_element = item.find_element(By.CSS_SELECTOR,\".amt > b\")\n",
    "                        unitQty_element = item.find_element(By.CSS_SELECTOR,\".unitQty\")\n",
    "                        subinfo_element = item.find_element(By.CSS_SELECTOR,\".subinfo > li\")\n",
    "                        infoDeli_element = item.find_element(By.CSS_SELECTOR,\".infoDeli\")\n",
    "                        grade_element = item.find_element(By.CSS_SELECTOR,\".grade\")\n",
    "                        shipping_amt_element = item.find_element(By.CSS_SELECTOR, \"div.amtqty > div.infoDeli > b\")\n",
    "                        shipping_amt = convert_string_to_int_with_commas(shipping_amt_element.text)\n",
    "                        \n",
    "                        title_text = title_element.text\n",
    "                        href_element_text = href_element.get_attribute(\"href\")\n",
    "                        amt_text = amt_element.text\n",
    "                        unitQty_text = unitQty_element.text\n",
    "                        subinfo_text = subinfo_element.text\n",
    "                        infoDeli_text = infoDeli_element.text\n",
    "                        grade_text = grade_element.text\n",
    "\n",
    "                        product_amt = convert_string_to_int_with_commas(amt_text)\n",
    "                        \n",
    "                        # print(title_text, amt_text, unitQty_text, infoDeli_text, subinfo_text, grade_text)\n",
    "\n",
    "                        # 상세 페이지\n",
    "                        if (not href_element_text in data['supplier_url']) and ((unitQty_text == individually_purchas_name) or (subinfo_text in business_individually_purchas_name)):\n",
    "                            # 새로운 탭 열기\n",
    "                            driver.execute_script(\"window.open('\" + href_element_text + \"', 'new_window')\")\n",
    "                            \n",
    "                            driver.switch_to.window(driver.window_handles[1])\n",
    "    \n",
    "                            while True:\n",
    "                                try:\n",
    "                                    isSelected = int(input(\"해당 상품을 선택하시겠습니까? 0: No, 1: Yes\"))\n",
    "                                    if isSelected == 0:\n",
    "                                        break\n",
    "                                    \n",
    "                                    # 새로운 탭에서 필요한 작업 수행\n",
    "                                    seller_info_element = driver.find_element(By.CSS_SELECTOR,\"#lBtnShowSellerInfo > b\") #제조사\n",
    "                                    \n",
    "                                    item_title_element = driver.find_element(By.CSS_SELECTOR,\"#lInfoItemTitle\") #상품 이름\n",
    "            \n",
    "                                    # lInfoAmt_element = driver.find_elements(By.CSS_SELECTOR,\"#lInfoBody > div.lInfoBody.lInfoRow.lSelected > table > tbody > tr.lInfoAmt > td > div > div\") #상품 가격\n",
    "                                    # lInfoAmt_text = ''\n",
    "                                    # if len(lInfoAmt_element) <= 0 : \n",
    "                                    #     lInfoAmt_element = driver.find_elements(By.CSS_SELECTOR,\"#lAmtSectionTbl > tbody > tr:nth-child(2) > td.lSelected\") #상품 가격\n",
    "                                    #     lInfoAmt_text = lInfoAmt_element[0].text\n",
    "                                    # else:\n",
    "                                    #     lInfoAmt_text = lInfoAmt_element[0].text.split('원')[0]\n",
    "                                    # lInfoAmt = convert_string_to_int_with_commas(lInfoAmt_text)\n",
    "            \n",
    "                                    \n",
    "                                    min_qty_element = driver.find_element(By.CSS_SELECTOR,\"#lInfoBody > div.lInfoBody.lInfoRow.lSelected > table > tbody > tr.lInfoPurchase > td > b\") #최소 구매 수량\n",
    "            \n",
    "                                    lInfoQty_element = driver.find_element(By.CSS_SELECTOR,\"#lInfoBody > div.lInfoBody.lInfoRow.lSelected > table > tbody > tr.lInfoQty > td\") #제고 수량\n",
    "            \n",
    "                                    quest_element = driver.find_elements(By.CSS_SELECTOR,\"#lInfoBody > div.lInfoBody.lInfoRow.lSelected > table > tbody > tr.lInfoPurchase > td > div > a\") #훙정하기\n",
    "                                    is_use_phto = driver.find_element(By.CSS_SELECTOR,\"#lInfoView > div.lInfoViewSubWrap > form > table > tbody > tr > td.lInfoViewSubTd2 > div.lInfoViewImgUse > div:nth-child(1) > b\") #사진 사용 여부,\n",
    "    \n",
    "                                    product_option_elements = driver.find_elements(By.CSS_SELECTOR,\"#lPayInfoBody > table > tbody > tr > td > div.lOptRes > .pOptResultList > div\") # 옵션\n",
    "    \n",
    "                                    if len(product_option_elements) <= 0:\n",
    "                                        raise Exception(\"옵션를 선택해주세요.\")\n",
    "                               \n",
    "                                    quest_text = ''\n",
    "                                    if len(quest_element) > 0 :\n",
    "                                        quest_text = quest_element[0].text\n",
    "                                    else:\n",
    "                                        quest_text = ''\n",
    "            \n",
    "                                    thum_img_element = driver.find_element(By.CSS_SELECTOR,\"#lThumbImg\") #썸네일 이미지\n",
    "                                    detail_img_element = driver.find_element(By.CSS_SELECTOR,\" #lInfoViewItemContents img\") #상세 이미지\n",
    "            \n",
    "                                    seller_info_text = seller_info_element.text\n",
    "                                    item_title_text = item_title_element.text \n",
    "                                    min_qty_text = min_qty_element.text\n",
    "                                    lInfoQty_text = lInfoQty_element.text\n",
    "                                    thum_img_src = thum_img_element.get_attribute('src')\n",
    "                                    detail_img_src = detail_img_element.get_attribute('src')\n",
    "                                    is_use_phto_text = is_use_phto.text\n",
    "                                    \n",
    "    \n",
    "                                    # 데이터 입력\n",
    "                                    category_data = select_cloth_category(s_cloth_category)\n",
    "    \n",
    "                                    product_code_num = create_product_code(1,category_data,len(data['product_code']))\n",
    "    \n",
    "                                    option_list = []\n",
    "                                    \n",
    "                                    for index, product_option_element in enumerate(product_option_elements):\n",
    "                                        option_value = \" \".join(product_option_element.find_element(By.CSS_SELECTOR, \".pOptResultNames\").text.split(' / '))\n",
    "                                        convert_string_to_int_with_commas(product_option_element.find_element(By.CSS_SELECTOR, \".pOptResultTotal\").text.split('원')[0])\n",
    "                                        product_option_data_copy = product_option_data.copy()\n",
    "                                        product_option_data_copy['product_id'] = product_code_num\n",
    "                                        product_option_data_copy['sku_code'] = str(product_code_num) + str(index)\n",
    "                                        product_option_data_copy['option_key'] = option_key['TYPE']\n",
    "                                        product_option_data_copy['option_value'] = get_item_name(option_value)\n",
    "                                        product_option_data_copy['option_sequence'] = index\n",
    "\n",
    "                                        option_num_element = product_option_element.find_element(By.CSS_SELECTOR,\"div.pOptResultInput > div.pOptResultQty > input[type=text]\") # 옵션 개수\n",
    "\n",
    "                                        option_num = option_num_element.get_attribute(\"value\")\n",
    "                                        print(\"옵션 개수:\",option_num)\n",
    "                                        \n",
    "                                        product_option_data_copy['product_qty'] = option_num\n",
    "                                        product_option_data_copy['max_order_qty'] = 10\n",
    "                                        product_option_data_copy['min_order_qty'] = 1\n",
    "                                        product_option_data_copy['option_extra_amount'] = 0\n",
    "                                        product_option_data_copy['is_exposed'] = 1\n",
    "                                        option_list.append(\n",
    "                                            product_option_data_copy\n",
    "                                        )\n",
    "                                    \n",
    "                                    brand_name_data = find_brand_by_name(brand_name)\n",
    "    \n",
    "                                    data_frame_copy = data_frame.copy()\n",
    "                                    data_frame_copy['id'] = len(data['id']) + 1\n",
    "                                    data_frame_copy['isUsePhoto'] = is_use_phto_text == use_photo_title\n",
    "                                    data_frame_copy['product_category_id'] = category_data['id']\n",
    "                                    data_frame_copy['product_brand_id'] = brand_name_data['id']\n",
    "                                    data_frame_copy['productOptions'] = option_list\n",
    "                                    data_frame_copy['name'] = get_item_name(item_title_text)\n",
    "                                    data_frame_copy['product_code'] = product_code_num\n",
    "                                    data_frame_copy['shipping_info_id'] = 1 \n",
    "                                    data_frame_copy['brand_name'] = brand_name_data['ko_name']\n",
    "                                    data_frame_copy['manufacturer_name'] = seller_info_text \n",
    "                                    data_frame_copy['supplier_name'] = '도매꾹'\n",
    "                                    data_frame_copy['supplier_url'] = href_element_text\n",
    "                                    data_frame_copy['supply_price'] = product_amt + shipping_amt\n",
    "\n",
    "                                    reward_rate_ = check_range(float(input('소비자 리워드 비율을 넣어주세요.')),consumer_reward_rate_range)\n",
    "                                    data_frame_copy['consumer_reward_rate'] = reward_rate_\n",
    "\n",
    "                                    sale_price_ = get_sale_price(data_frame_copy['supply_price'],reward_rate_)\n",
    "                                    print(product_amt)\n",
    "                                    print(\"판매 가격:\",sale_price_)\n",
    "                \n",
    "                                    \n",
    "                                    discountrate_ = check_range(float(input('할인 비율을 넣어주세요.')),sale_rate_range)\n",
    "                                    \n",
    "                                    \n",
    "                                    data_frame_copy['discount_rate'] = discountrate_\n",
    "                                    data_frame_copy['sale_price'] = sale_price_\n",
    "                                    data_frame_copy['consumer_price'] = round_ten(sale_price_ / (1 - discountrate_))\n",
    "    \n",
    "                                    data_frame_copy['tax_status'] = tax_status['TAX']\n",
    "                                    data_frame_copy['business_reward_rate'] = 0\n",
    "                                    data_frame_copy['image_path'] = thum_img_src\n",
    "                                    data_frame_copy['detail_image_path'] = detail_img_src\n",
    "                                    data_frame_copy['product_status'] = product_status['ACTIVE']\n",
    "                                    data_frame_copy['product_priority'] = get_priority(data)\n",
    "                                    data_frame_copy['is_exposed'] = 1\n",
    "                                    data_frame_copy['is_available_multiple_option'] = 0\n",
    "                                    data_frame_copy['sale_alternatives'] = '다 팔렸습니다.'\n",
    "                                    data_frame_copy['prod_obs_ctrl_num'] = 0\n",
    "                                    data_frame_copy['created_at'] = CREATED_AT\n",
    "                                    data_frame_copy['updated_at'] = UPDATED_AT\n",
    "                                    data_frame_copy['tax_rate'] = PG_TAX_PERCENT\n",
    "                                    data_frame_copy['margin_rate'] = MARGIN_RATE\n",
    "    \n",
    "                                    for key, value in data_frame_copy.items():\n",
    "                                        data[key].append(value)\n",
    "                                    \n",
    "                                    # print(seller_info_text,item_title_text,min_qty_text,lInfoQty_text,quest_text,thum_img_src ,detail_img_src, lInfoAmt_text, quest_text)\n",
    "                                    print(\"\\n\")\n",
    "                                    break\n",
    "    \n",
    "                                except Exception as e:\n",
    "                                    print(\"오류가 발생했습니다.\",e)\n",
    "                                    is_obs = float(input(\"한번 더 보시겠습니까? (0: No, 1: Yes, -1: Exit)\"))\n",
    "                                    if is_obs == 0:\n",
    "                                        break\n",
    "                                    if is_obs == -1:\n",
    "                                        # 새로운 탭 닫기\n",
    "                                        driver.close()\n",
    "                                        \n",
    "                                        # 이전 탭으로 전환\n",
    "                                        driver.switch_to.window(driver.window_handles[0])\n",
    "                                        return\n",
    "                                \n",
    "                            # 새로운 탭 닫기\n",
    "                            driver.close()\n",
    "                            \n",
    "                            # 이전 탭으로 전환\n",
    "                            driver.switch_to.window(driver.window_handles[0])\n",
    "                    except Exception as e:\n",
    "                        pass"
   ]
  },
  {
   "cell_type": "code",
   "execution_count": 36,
   "id": "aeadcdb3-cade-4af2-bec4-9d9c45d6c583",
   "metadata": {
    "scrolled": true
   },
   "outputs": [
    {
     "name": "stdout",
     "output_type": "stream",
     "text": [
      "https://mirror1.domeggook.com/main/item/itemList.php?mnp=&mxp=&mnq=&mxq=&dfos=false&sgd=1&sw=&so=da&ca=02_01_03_02_00&pg=1\n"
     ]
    },
    {
     "name": "stdin",
     "output_type": "stream",
     "text": [
      "해당 상품을 선택하시겠습니까? 0: No, 1: Yes 0\n",
      "해당 상품을 선택하시겠습니까? 0: No, 1: Yes 1\n"
     ]
    },
    {
     "name": "stdout",
     "output_type": "stream",
     "text": [
      "오류가 발생했습니다. 옵션를 선택해주세요.\n"
     ]
    },
    {
     "name": "stdin",
     "output_type": "stream",
     "text": [
      "한번 더 보시겠습니까? (0: No, 1: Yes, -1: Exit) 1\n",
      "해당 상품을 선택하시겠습니까? 0: No, 1: Yes 1\n"
     ]
    },
    {
     "name": "stdout",
     "output_type": "stream",
     "text": [
      "id: 14 종류: SWEATSHIRT\n"
     ]
    },
    {
     "name": "stdin",
     "output_type": "stream",
     "text": [
      "이외 다른 의류 카테고리도 보시겠습니까? 0: No, 1: Yes 0\n",
      "id 번호 입력:  (-1 입력시 다시 처음으로 돌아가기) 14\n"
     ]
    },
    {
     "name": "stdout",
     "output_type": "stream",
     "text": [
      "상품 이름: SIS-110 카라루즈맨투맨 블랙 FREE(2xl)\n"
     ]
    },
    {
     "name": "stdin",
     "output_type": "stream",
     "text": [
      "해당 상품 이름으로 하시곘습니까? 1: Yes, 0: No 블랙\n",
      "해당 상품 이름으로 하시곘습니까? 1: Yes, 0: No 1\n"
     ]
    },
    {
     "name": "stdout",
     "output_type": "stream",
     "text": [
      "옵션 개수: 49999\n",
      "상품 이름: SIS-110 카라루즈맨투맨 화이트 FREE(2xl)\n"
     ]
    },
    {
     "name": "stdin",
     "output_type": "stream",
     "text": [
      "해당 상품 이름으로 하시곘습니까? 1: Yes, 0: No 5\n"
     ]
    },
    {
     "name": "stdout",
     "output_type": "stream",
     "text": [
      "잘못된 입력입니다. 다시 입력해주세요.\n"
     ]
    },
    {
     "name": "stdin",
     "output_type": "stream",
     "text": [
      "해당 상품 이름으로 하시곘습니까? 1: Yes, 0: No 0\n",
      "상품 이름을 넣어 주세요. 화이트\n",
      "해당 상품 이름으로 확정하시겠습니까? 1: Yes, 0: No 1\n"
     ]
    },
    {
     "name": "stdout",
     "output_type": "stream",
     "text": [
      "옵션 개수: 49999\n",
      "상품 이름: SIS-110 카라루즈맨투맨 브라운 FREE(2xl)\n"
     ]
    },
    {
     "name": "stdin",
     "output_type": "stream",
     "text": [
      "해당 상품 이름으로 하시곘습니까? 1: Yes, 0: No 0\n",
      "상품 이름을 넣어 주세요. 브라운\n",
      "해당 상품 이름으로 확정하시겠습니까? 1: Yes, 0: No 1\n"
     ]
    },
    {
     "name": "stdout",
     "output_type": "stream",
     "text": [
      "옵션 개수: 49999\n"
     ]
    },
    {
     "name": "stdin",
     "output_type": "stream",
     "text": [
      "브랜드 명을 작성해주세요. (RANDOM_BRAND: 무작위로 브랜드명 입력) RANDOM_BRAND\n"
     ]
    },
    {
     "name": "stdout",
     "output_type": "stream",
     "text": [
      "상품 이름: 카라 이지 오버핏 여자 맨투맨 여유로운 소매 베이직 캐주얼 아이템 활용도높은\n"
     ]
    },
    {
     "name": "stdin",
     "output_type": "stream",
     "text": [
      "해당 상품 이름으로 하시곘습니까? 1: Yes, 0: No 카라 캐줭ㄹ 오버핏 맨투맨\n",
      "해당 상품 이름으로 하시곘습니까? 1: Yes, 0: No 0\n",
      "상품 이름을 넣어 주세요. 카라 캐주얼 오버핏 맨투맨\n",
      "해당 상품 이름으로 확정하시겠습니까? 1: Yes, 0: No 1\n",
      "소비자 리워드 비율을 넣어주세요. 0.3\n"
     ]
    },
    {
     "name": "stdout",
     "output_type": "stream",
     "text": [
      "오류가 발생했습니다. ('잘못 된 비율 입니다. ', 0.3)\n"
     ]
    },
    {
     "name": "stdin",
     "output_type": "stream",
     "text": [
      "한번 더 보시겠습니까? (0: No, 1: Yes, -1: Exit) 1\n",
      "해당 상품을 선택하시겠습니까? 0: No, 1: Yes 1\n"
     ]
    },
    {
     "name": "stdout",
     "output_type": "stream",
     "text": [
      "id: 14 종류: SWEATSHIRT\n"
     ]
    },
    {
     "name": "stdin",
     "output_type": "stream",
     "text": [
      "이외 다른 의류 카테고리도 보시겠습니까? 0: No, 1: Yes 0\n",
      "id 번호 입력:  (-1 입력시 다시 처음으로 돌아가기) 14\n"
     ]
    },
    {
     "name": "stdout",
     "output_type": "stream",
     "text": [
      "상품 이름: SIS-110 카라루즈맨투맨 블랙 FREE(2xl)\n"
     ]
    },
    {
     "name": "stdin",
     "output_type": "stream",
     "text": [
      "해당 상품 이름으로 하시곘습니까? 1: Yes, 0: No 0\n",
      "상품 이름을 넣어 주세요. 블랙\n",
      "해당 상품 이름으로 확정하시겠습니까? 1: Yes, 0: No 1\n"
     ]
    },
    {
     "name": "stdout",
     "output_type": "stream",
     "text": [
      "옵션 개수: 49999\n",
      "상품 이름: SIS-110 카라루즈맨투맨 화이트 FREE(2xl)\n"
     ]
    },
    {
     "name": "stdin",
     "output_type": "stream",
     "text": [
      "해당 상품 이름으로 하시곘습니까? 1: Yes, 0: No 0\n",
      "상품 이름을 넣어 주세요. 화이트\n",
      "해당 상품 이름으로 확정하시겠습니까? 1: Yes, 0: No 1\n"
     ]
    },
    {
     "name": "stdout",
     "output_type": "stream",
     "text": [
      "옵션 개수: 49999\n",
      "상품 이름: SIS-110 카라루즈맨투맨 브라운 FREE(2xl)\n"
     ]
    },
    {
     "name": "stdin",
     "output_type": "stream",
     "text": [
      "해당 상품 이름으로 하시곘습니까? 1: Yes, 0: No 0\n",
      "상품 이름을 넣어 주세요. 브라운\n",
      "해당 상품 이름으로 확정하시겠습니까? 1: Yes, 0: No 1\n"
     ]
    },
    {
     "name": "stdout",
     "output_type": "stream",
     "text": [
      "옵션 개수: 49999\n"
     ]
    },
    {
     "name": "stdin",
     "output_type": "stream",
     "text": [
      "브랜드 명을 작성해주세요. (RANDOM_BRAND: 무작위로 브랜드명 입력) RANDOM_BRAND\n"
     ]
    },
    {
     "name": "stdout",
     "output_type": "stream",
     "text": [
      "상품 이름: 카라 이지 오버핏 여자 맨투맨 여유로운 소매 베이직 캐주얼 아이템 활용도높은\n"
     ]
    },
    {
     "name": "stdin",
     "output_type": "stream",
     "text": [
      "해당 상품 이름으로 하시곘습니까? 1: Yes, 0: No 카라 캐주얼 오버핏 맨투맨\n",
      "해당 상품 이름으로 하시곘습니까? 1: Yes, 0: No 1\n",
      "소비자 리워드 비율을 넣어주세요. 0.03\n"
     ]
    },
    {
     "name": "stdout",
     "output_type": "stream",
     "text": [
      "16500\n",
      "판매 가격: 22540\n"
     ]
    },
    {
     "name": "stdin",
     "output_type": "stream",
     "text": [
      "할인 비율을 넣어주세요. 0.4\n",
      "우선 순위 번호를 입력해주세요. (-1: 무작위 수, 그외 숫자: 직접입력 -1\n"
     ]
    },
    {
     "name": "stdout",
     "output_type": "stream",
     "text": [
      "\n",
      "\n"
     ]
    },
    {
     "name": "stdin",
     "output_type": "stream",
     "text": [
      "해당 상품을 선택하시겠습니까? 0: No, 1: Yes 1\n"
     ]
    },
    {
     "name": "stdout",
     "output_type": "stream",
     "text": [
      "오류가 발생했습니다. 옵션를 선택해주세요.\n"
     ]
    },
    {
     "name": "stdin",
     "output_type": "stream",
     "text": [
      "한번 더 보시겠습니까? (0: No, 1: Yes, -1: Exit) 1\n",
      "해당 상품을 선택하시겠습니까? 0: No, 1: Yes 1\n"
     ]
    },
    {
     "name": "stdout",
     "output_type": "stream",
     "text": [
      "id: 14 종류: SWEATSHIRT\n"
     ]
    },
    {
     "name": "stdin",
     "output_type": "stream",
     "text": [
      "이외 다른 의류 카테고리도 보시겠습니까? 0: No, 1: Yes 0\n",
      "id 번호 입력:  (-1 입력시 다시 처음으로 돌아가기) 14\n"
     ]
    },
    {
     "name": "stdout",
     "output_type": "stream",
     "text": [
      "상품 이름: 블랙 FREE\n"
     ]
    },
    {
     "name": "stdin",
     "output_type": "stream",
     "text": [
      "해당 상품 이름으로 하시곘습니까? 1: Yes, 0: No 블랙\n",
      "해당 상품 이름으로 하시곘습니까? 1: Yes, 0: No 0\n",
      "상품 이름을 넣어 주세요. 블랙\n",
      "해당 상품 이름으로 확정하시겠습니까? 1: Yes, 0: No 1\n"
     ]
    },
    {
     "name": "stdout",
     "output_type": "stream",
     "text": [
      "옵션 개수: 1\n",
      "상품 이름: 그레이 FREE\n"
     ]
    },
    {
     "name": "stdin",
     "output_type": "stream",
     "text": [
      "해당 상품 이름으로 하시곘습니까? 1: Yes, 0: No 그레이\n",
      "해당 상품 이름으로 하시곘습니까? 1: Yes, 0: No 0\n",
      "상품 이름을 넣어 주세요. 그레이\n",
      "해당 상품 이름으로 확정하시겠습니까? 1: Yes, 0: No 1\n"
     ]
    },
    {
     "name": "stdout",
     "output_type": "stream",
     "text": [
      "옵션 개수: 1\n",
      "상품 이름: 백멜란지 FREE\n"
     ]
    },
    {
     "name": "stdin",
     "output_type": "stream",
     "text": [
      "해당 상품 이름으로 하시곘습니까? 1: Yes, 0: No 0\n",
      "상품 이름을 넣어 주세요. 백멜란지\n",
      "해당 상품 이름으로 확정하시겠습니까? 1: Yes, 0: No 1\n"
     ]
    },
    {
     "name": "stdout",
     "output_type": "stream",
     "text": [
      "옵션 개수: 1\n",
      "상품 이름: 진차콜 FREE\n"
     ]
    },
    {
     "name": "stdin",
     "output_type": "stream",
     "text": [
      "해당 상품 이름으로 하시곘습니까? 1: Yes, 0: No 0\n",
      "상품 이름을 넣어 주세요. 진차콜\n",
      "해당 상품 이름으로 확정하시겠습니까? 1: Yes, 0: No 1\n"
     ]
    },
    {
     "name": "stdout",
     "output_type": "stream",
     "text": [
      "옵션 개수: 1\n"
     ]
    },
    {
     "name": "stdin",
     "output_type": "stream",
     "text": [
      "브랜드 명을 작성해주세요. (RANDOM_BRAND: 무작위로 브랜드명 입력) RANDOM_BRAND\n"
     ]
    },
    {
     "name": "stdout",
     "output_type": "stream",
     "text": [
      "상품 이름: 여성 여자 맨투맨 라운드 티셔츠 긴팔 데일리 캐주얼 빅사이즈 큰사이즈 간절기 일상 무지 심플 티\n"
     ]
    },
    {
     "name": "stdin",
     "output_type": "stream",
     "text": [
      "해당 상품 이름으로 하시곘습니까? 1: Yes, 0: No 맨투맨 라운드 티셔츠\n",
      "해당 상품 이름으로 하시곘습니까? 1: Yes, 0: No 1\n",
      "소비자 리워드 비율을 넣어주세요. 0.03\n"
     ]
    },
    {
     "name": "stdout",
     "output_type": "stream",
     "text": [
      "10000\n",
      "판매 가격: 15030\n"
     ]
    },
    {
     "name": "stdin",
     "output_type": "stream",
     "text": [
      "할인 비율을 넣어주세요. 0.5\n",
      "우선 순위 번호를 입력해주세요. (-1: 무작위 수, 그외 숫자: 직접입력 -1\n"
     ]
    },
    {
     "name": "stdout",
     "output_type": "stream",
     "text": [
      "\n",
      "\n"
     ]
    },
    {
     "ename": "KeyboardInterrupt",
     "evalue": "Interrupted by user",
     "output_type": "error",
     "traceback": [
      "\u001b[0;31m---------------------------------------------------------------------------\u001b[0m",
      "\u001b[0;31mKeyboardInterrupt\u001b[0m                         Traceback (most recent call last)",
      "Cell \u001b[0;32mIn[36], line 1\u001b[0m\n\u001b[0;32m----> 1\u001b[0m \u001b[43mmain_func\u001b[49m\u001b[43m(\u001b[49m\u001b[43m)\u001b[49m\n",
      "Cell \u001b[0;32mIn[35], line 51\u001b[0m, in \u001b[0;36mmain_func\u001b[0;34m()\u001b[0m\n\u001b[1;32m     49\u001b[0m \u001b[38;5;28;01mwhile\u001b[39;00m \u001b[38;5;28;01mTrue\u001b[39;00m:\n\u001b[1;32m     50\u001b[0m     \u001b[38;5;28;01mtry\u001b[39;00m:\n\u001b[0;32m---> 51\u001b[0m         isSelected \u001b[38;5;241m=\u001b[39m \u001b[38;5;28mint\u001b[39m(\u001b[38;5;28;43minput\u001b[39;49m\u001b[43m(\u001b[49m\u001b[38;5;124;43m\"\u001b[39;49m\u001b[38;5;124;43m해당 상품을 선택하시겠습니까? 0: No, 1: Yes\u001b[39;49m\u001b[38;5;124;43m\"\u001b[39;49m\u001b[43m)\u001b[49m)\n\u001b[1;32m     52\u001b[0m         \u001b[38;5;28;01mif\u001b[39;00m isSelected \u001b[38;5;241m==\u001b[39m \u001b[38;5;241m0\u001b[39m:\n\u001b[1;32m     53\u001b[0m             \u001b[38;5;28;01mbreak\u001b[39;00m\n",
      "File \u001b[0;32m~/Desktop/projects/jupyternotebook/.venv/lib/python3.12/site-packages/ipykernel/kernelbase.py:1262\u001b[0m, in \u001b[0;36mKernel.raw_input\u001b[0;34m(self, prompt)\u001b[0m\n\u001b[1;32m   1260\u001b[0m     msg \u001b[38;5;241m=\u001b[39m \u001b[38;5;124m\"\u001b[39m\u001b[38;5;124mraw_input was called, but this frontend does not support input requests.\u001b[39m\u001b[38;5;124m\"\u001b[39m\n\u001b[1;32m   1261\u001b[0m     \u001b[38;5;28;01mraise\u001b[39;00m StdinNotImplementedError(msg)\n\u001b[0;32m-> 1262\u001b[0m \u001b[38;5;28;01mreturn\u001b[39;00m \u001b[38;5;28;43mself\u001b[39;49m\u001b[38;5;241;43m.\u001b[39;49m\u001b[43m_input_request\u001b[49m\u001b[43m(\u001b[49m\n\u001b[1;32m   1263\u001b[0m \u001b[43m    \u001b[49m\u001b[38;5;28;43mstr\u001b[39;49m\u001b[43m(\u001b[49m\u001b[43mprompt\u001b[49m\u001b[43m)\u001b[49m\u001b[43m,\u001b[49m\n\u001b[1;32m   1264\u001b[0m \u001b[43m    \u001b[49m\u001b[38;5;28;43mself\u001b[39;49m\u001b[38;5;241;43m.\u001b[39;49m\u001b[43m_parent_ident\u001b[49m\u001b[43m[\u001b[49m\u001b[38;5;124;43m\"\u001b[39;49m\u001b[38;5;124;43mshell\u001b[39;49m\u001b[38;5;124;43m\"\u001b[39;49m\u001b[43m]\u001b[49m\u001b[43m,\u001b[49m\n\u001b[1;32m   1265\u001b[0m \u001b[43m    \u001b[49m\u001b[38;5;28;43mself\u001b[39;49m\u001b[38;5;241;43m.\u001b[39;49m\u001b[43mget_parent\u001b[49m\u001b[43m(\u001b[49m\u001b[38;5;124;43m\"\u001b[39;49m\u001b[38;5;124;43mshell\u001b[39;49m\u001b[38;5;124;43m\"\u001b[39;49m\u001b[43m)\u001b[49m\u001b[43m,\u001b[49m\n\u001b[1;32m   1266\u001b[0m \u001b[43m    \u001b[49m\u001b[43mpassword\u001b[49m\u001b[38;5;241;43m=\u001b[39;49m\u001b[38;5;28;43;01mFalse\u001b[39;49;00m\u001b[43m,\u001b[49m\n\u001b[1;32m   1267\u001b[0m \u001b[43m\u001b[49m\u001b[43m)\u001b[49m\n",
      "File \u001b[0;32m~/Desktop/projects/jupyternotebook/.venv/lib/python3.12/site-packages/ipykernel/kernelbase.py:1305\u001b[0m, in \u001b[0;36mKernel._input_request\u001b[0;34m(self, prompt, ident, parent, password)\u001b[0m\n\u001b[1;32m   1302\u001b[0m \u001b[38;5;28;01mexcept\u001b[39;00m \u001b[38;5;167;01mKeyboardInterrupt\u001b[39;00m:\n\u001b[1;32m   1303\u001b[0m     \u001b[38;5;66;03m# re-raise KeyboardInterrupt, to truncate traceback\u001b[39;00m\n\u001b[1;32m   1304\u001b[0m     msg \u001b[38;5;241m=\u001b[39m \u001b[38;5;124m\"\u001b[39m\u001b[38;5;124mInterrupted by user\u001b[39m\u001b[38;5;124m\"\u001b[39m\n\u001b[0;32m-> 1305\u001b[0m     \u001b[38;5;28;01mraise\u001b[39;00m \u001b[38;5;167;01mKeyboardInterrupt\u001b[39;00m(msg) \u001b[38;5;28;01mfrom\u001b[39;00m \u001b[38;5;28;01mNone\u001b[39;00m\n\u001b[1;32m   1306\u001b[0m \u001b[38;5;28;01mexcept\u001b[39;00m \u001b[38;5;167;01mException\u001b[39;00m:\n\u001b[1;32m   1307\u001b[0m     \u001b[38;5;28mself\u001b[39m\u001b[38;5;241m.\u001b[39mlog\u001b[38;5;241m.\u001b[39mwarning(\u001b[38;5;124m\"\u001b[39m\u001b[38;5;124mInvalid Message:\u001b[39m\u001b[38;5;124m\"\u001b[39m, exc_info\u001b[38;5;241m=\u001b[39m\u001b[38;5;28;01mTrue\u001b[39;00m)\n",
      "\u001b[0;31mKeyboardInterrupt\u001b[0m: Interrupted by user"
     ]
    }
   ],
   "source": [
    "main_func()"
   ]
  },
  {
   "cell_type": "code",
   "execution_count": null,
   "id": "3c539675-f070-47f8-9b62-bdd270a1e8b1",
   "metadata": {},
   "outputs": [],
   "source": [
    "pandas_data = pd.DataFrame(data)"
   ]
  },
  {
   "cell_type": "code",
   "execution_count": null,
   "id": "eddb1ca8-68a4-4c76-9766-24920d46ada6",
   "metadata": {},
   "outputs": [],
   "source": [
    "pandas_data"
   ]
  },
  {
   "cell_type": "code",
   "execution_count": null,
   "id": "648635ea-67af-4e12-9f77-ff5e29b793f4",
   "metadata": {},
   "outputs": [],
   "source": [
    "pandas_data.to_csv(path_or_buf=cloth_data_path)"
   ]
  },
  {
   "cell_type": "code",
   "execution_count": 37,
   "id": "4eeba87b-8707-4cc1-bc97-2939d2c80fd9",
   "metadata": {
    "scrolled": true
   },
   "outputs": [
    {
     "data": {
      "text/plain": [
       "{'id': [1, 2],\n",
       " 'isUsePhoto': [True, True],\n",
       " 'product_category_id': [14, 14],\n",
       " 'product_brand_id': [16, 14],\n",
       " 'productOptions': [[{'product_id': 101400000001,\n",
       "    'sku_code': '1014000000010',\n",
       "    'option_key': 'TYPE',\n",
       "    'option_value': 'SIS-110 카라루즈맨투맨 화이트 FREE(2xl)',\n",
       "    'option_sequence': 0,\n",
       "    'product_qty': '49999',\n",
       "    'max_order_qty': 10,\n",
       "    'min_order_qty': 1,\n",
       "    'option_extra_amount': 0,\n",
       "    'is_exposed': 1},\n",
       "   {'product_id': 101400000001,\n",
       "    'sku_code': '1014000000011',\n",
       "    'option_key': 'TYPE',\n",
       "    'option_value': 'SIS-110 카라루즈맨투맨 블랙 FREE(2xl)',\n",
       "    'option_sequence': 1,\n",
       "    'product_qty': '49999',\n",
       "    'max_order_qty': 10,\n",
       "    'min_order_qty': 1,\n",
       "    'option_extra_amount': 0,\n",
       "    'is_exposed': 1}],\n",
       "  [{'product_id': 101400000002,\n",
       "    'sku_code': '1014000000020',\n",
       "    'option_key': 'TYPE',\n",
       "    'option_value': '블랙',\n",
       "    'option_sequence': 0,\n",
       "    'product_qty': '49999',\n",
       "    'max_order_qty': 10,\n",
       "    'min_order_qty': 1,\n",
       "    'option_extra_amount': 0,\n",
       "    'is_exposed': 1},\n",
       "   {'product_id': 101400000002,\n",
       "    'sku_code': '1014000000021',\n",
       "    'option_key': 'TYPE',\n",
       "    'option_value': '그레이',\n",
       "    'option_sequence': 1,\n",
       "    'product_qty': '49999',\n",
       "    'max_order_qty': 10,\n",
       "    'min_order_qty': 1,\n",
       "    'option_extra_amount': 0,\n",
       "    'is_exposed': 1},\n",
       "   {'product_id': 101400000002,\n",
       "    'sku_code': '1014000000022',\n",
       "    'option_key': 'TYPE',\n",
       "    'option_value': '전차콜',\n",
       "    'option_sequence': 2,\n",
       "    'product_qty': '49999',\n",
       "    'max_order_qty': 10,\n",
       "    'min_order_qty': 1,\n",
       "    'option_extra_amount': 0,\n",
       "    'is_exposed': 1}]],\n",
       " 'name': ['카라 이지 오버핏 여자 맨투맨 여유로운 소매 베이직 캐주얼 아이템 활용도높은',\n",
       "  '여성 여자 맨투맨 라운드 티셔츠 긴팔 데일리 캐주얼 빅사이즈 큰사이즈 간절기 일상 무지 심플 티'],\n",
       " 'product_code': [101400000001, 101400000002],\n",
       " 'shipping_info_id': [1, 1],\n",
       " 'brand_name': ['벨라', '크림 캔디'],\n",
       " 'manufacturer_name': ['시스터도매', '루퍼시'],\n",
       " 'supplier_name': ['도매꾹', '도매꾹'],\n",
       " 'supplier_url': ['https://mirror1.domeggook.com/41091455?from=lstGen',\n",
       "  'https://mirror1.domeggook.com/40615542?from=lstGen'],\n",
       " 'supply_price': [19500, 13000],\n",
       " 'discount_rate': [0.3, 0.5],\n",
       " 'consumer_price': [27250.0, 23130.0],\n",
       " 'sale_price': [19070, 11560],\n",
       " 'tax_status': ['TAX', 'TAX'],\n",
       " 'consumer_reward_rate': [0.03, 0.03],\n",
       " 'business_reward_rate': [0, 0],\n",
       " 'image_path': ['http://cdn1.domeggook.com/upload/item/2023/09/14/169465954734B49DE17976AB9C8555A2/169465954734B49DE17976AB9C8555A2_img_760?hash=07697ffaf6ddb5f9b246daf15de54bea',\n",
       "  'http://cdn1.domeggook.com/upload/item/2023/08/25/16929030530D40404F71E80D988AFFAA/16929030530D40404F71E80D988AFFAA_img_760?hash=f361ded5d8b9f8d5f0aaf9dfac685708'],\n",
       " 'detail_image_path': ['https://leadersdome.co.kr/web/upload/NNEditor/20230910/copy-1694335095-SIS-110.jpg',\n",
       "  'https://shop-phinf.pstatic.net/20220504_10/1651636690499cgHKS_JPEG/1-vert.jpg?type=w860'],\n",
       " 'product_status': ['ACTIVE', 'ACTIVE'],\n",
       " 'product_priority': [56, 61],\n",
       " 'is_exposed': [1, 1],\n",
       " 'is_available_multiple_option': [0, 0],\n",
       " 'sale_alternatives': ['다 팔렸습니다.', '다 팔렸습니다.'],\n",
       " 'prod_obs_ctrl_num': [0, 0],\n",
       " 'created_at': ['2024-03-29 00:00:00.000000', '2024-03-29 00:00:00.000000'],\n",
       " 'updated_at': ['2024-03-29 00:00:00.000000', '2024-03-29 00:00:00.000000'],\n",
       " 'tax_rate': [0.018, 0.018],\n",
       " 'margin_rate': [0.1, 0.1]}"
      ]
     },
     "execution_count": 37,
     "metadata": {},
     "output_type": "execute_result"
    }
   ],
   "source": [
    "data"
   ]
  },
  {
   "cell_type": "code",
   "execution_count": null,
   "id": "16bc5d5f-73c6-429e-a416-a7d2a3c6d0e3",
   "metadata": {},
   "outputs": [],
   "source": []
  },
  {
   "cell_type": "code",
   "execution_count": 54,
   "id": "4591a634-29a0-4d19-88ba-73576e1c6402",
   "metadata": {},
   "outputs": [],
   "source": [
    "def list_to_string(data):\n",
    "    result = \"\"\n",
    "    for item in data:\n",
    "        if isinstance(item, str):\n",
    "            result += f\"'{item}', \"\n",
    "        else:\n",
    "            result += f\"{item}, \"\n",
    "    return result[:-2]  # 마지막 쉼표와 공백 제거"
   ]
  },
  {
   "cell_type": "markdown",
   "id": "66de4d9c-e427-43cd-a5b4-ee51c1783198",
   "metadata": {},
   "source": [
    "### SQL 파일 작성"
   ]
  },
  {
   "cell_type": "code",
   "execution_count": null,
   "id": "bb673321-1c17-4c98-84b8-8274aebffdb6",
   "metadata": {},
   "outputs": [],
   "source": [
    "# f\"INSERT INTO `{db_name}`.`{table_name}` ({key_data_name}) VALUES ({value_data_name});\""
   ]
  },
  {
   "cell_type": "code",
   "execution_count": null,
   "id": "64c5313e-e218-4080-9120-1c67832bb93a",
   "metadata": {},
   "outputs": [],
   "source": []
  },
  {
   "cell_type": "markdown",
   "id": "7de67c8a-1e6d-44b8-b36b-c9650f704ce6",
   "metadata": {},
   "source": [
    "## ProductBrand SQL 파일 작성"
   ]
  },
  {
   "cell_type": "code",
   "execution_count": 2,
   "id": "4ae66db0-fd26-4ecc-bb49-44133706fc90",
   "metadata": {},
   "outputs": [],
   "source": [
    "db_name = \"bucl_db\"\n",
    "table_name = \"product_brand\"\n",
    "\n",
    "sql_template = {\n",
    "    \"created_at\": \"\",\n",
    "    \"updated_at\": \"\",\n",
    "    \"product_brand_id\": \"\",\n",
    "    \"brand_co_name\": \"\",\n",
    "    \"brand_profile_path\": \"\",\n",
    "    \"brand_name\": \"\",\n",
    "    \"brand_desc\": \"\",\n",
    "    \"brand_img_list_path\":\"\"\n",
    "}"
   ]
  },
  {
   "cell_type": "code",
   "execution_count": null,
   "id": "a0184ace-c528-4ee9-9c58-9f347c6e67f5",
   "metadata": {},
   "outputs": [],
   "source": [
    "INSERT INTO `bucl_db`.`product_brand` (`product_brand_id`, `created_at`, `updated_at`, `brand_co_name`, `brand_profile_path`, `brand_name`, `brand_desc`, `brand_img_list_path`) VALUES ('16', '2024-03-11 13:59:00.706416', '2024-03-11 13:59:00.706416', '벨라', 'https://s3.ap-northeast-2.amazonaws.com/image.pixpergram.com/brand/profile/sjkgjrijtgiowejklfajd.png', '벨라', '이쁜 당신을 위한 5가지 스타일', 'https://s3.ap-northeast-2.amazonaws.com/image.pixpergram.com/brand/asset/jdgkjkldfjkaldjfkladla.png');\n"
   ]
  },
  {
   "cell_type": "code",
   "execution_count": 4,
   "id": "4eb85d94-ce43-486e-8dc5-b21b615c1fb4",
   "metadata": {},
   "outputs": [
    {
     "data": {
      "text/plain": [
       "[{'name': 'Styloo', 'ko_name': '스타이루', 'id': 1},\n",
       " {'name': 'Serenity', 'ko_name': '세레니티', 'id': 2},\n",
       " {'name': 'Canvas Style', 'ko_name': '캔버스 스타일', 'id': 3},\n",
       " {'name': 'Lumina', 'ko_name': '루미나', 'id': 4},\n",
       " {'name': 'Peerless', 'ko_name': '피어리스', 'id': 5},\n",
       " {'name': 'Aether', 'ko_name': '에테르', 'id': 6},\n",
       " {'name': 'Bloomer', 'ko_name': '블루머', 'id': 7},\n",
       " {'name': 'Iris Eye', 'ko_name': '아이리스 아이', 'id': 8},\n",
       " {'name': 'Sweet Ander', 'ko_name': '스위트 앤더', 'id': 9},\n",
       " {'name': 'Prismer', 'ko_name': '프리즈머', 'id': 10},\n",
       " {'name': 'Sage Style', 'ko_name': '세이지 스타일', 'id': 11},\n",
       " {'name': 'Violet Bloom', 'ko_name': '바이올렛 블룸', 'id': 12},\n",
       " {'name': 'Clover Kiss', 'ko_name': '클로버 키스', 'id': 13},\n",
       " {'name': 'Cream Candy', 'ko_name': '크림 캔디', 'id': 14},\n",
       " {'name': 'Pluto', 'ko_name': '플루토', 'id': 15},\n",
       " {'name': 'Vela', 'ko_name': '벨라', 'id': 16},\n",
       " {'name': 'Twila', 'ko_name': '트와일라', 'id': 17},\n",
       " {'name': 'Velvetine', 'ko_name': '벨베틴', 'id': 18},\n",
       " {'name': 'AvaLys', 'ko_name': '아바리스', 'id': 19},\n",
       " {'name': 'VelaAva', 'ko_name': '벨라아바', 'id': 20}]"
      ]
     },
     "execution_count": 4,
     "metadata": {},
     "output_type": "execute_result"
    }
   ],
   "source": [
    "brand_name"
   ]
  },
  {
   "cell_type": "code",
   "execution_count": null,
   "id": "0067fece-5b25-4399-bf64-7bf0d481bcd1",
   "metadata": {},
   "outputs": [],
   "source": [
    "for pd_d in pandas_data.to_dict(orient='records'):\n",
    "    for key, value in sql_template.items():\n",
    "        try:\n",
    "            sql_template[key] = pd_d[key]\n",
    "        except Exception as e:\n",
    "            print(key)\n",
    "            pass\n",
    "    key_data_name = ', '.join([f\"`{item}`\" for item in list(sql_template.keys())])\n",
    "    value_data_name = list_to_string(list(sql_template.values()))\n",
    "    sql_ = f\"INSERT INTO `{db_name}`.`{table_name}` ({key_data_name}) VALUES ({value_data_name});\"\n",
    "    sql_list.append(sql_)"
   ]
  },
  {
   "cell_type": "code",
   "execution_count": null,
   "id": "4938f0fc-6d8c-41c5-aea0-34c66d445f38",
   "metadata": {},
   "outputs": [],
   "source": []
  },
  {
   "cell_type": "markdown",
   "id": "9de6c8b1-b054-4769-aa83-4a2c795711d8",
   "metadata": {},
   "source": [
    "## Product SQL 파일 작성"
   ]
  },
  {
   "cell_type": "code",
   "execution_count": 57,
   "id": "da6b2b4b-dcc1-451e-a550-845d3f0c5c54",
   "metadata": {},
   "outputs": [],
   "source": [
    "db_name = \"bucl_db\"\n",
    "table_name = \"product\"\n",
    "\n",
    "sql_template = {\n",
    "    \"created_at\": \"\",\n",
    "    \"updated_at\": \"\",\n",
    "    \"brand_name\": \"\",\n",
    "    \"business_reward_rate\": \"\",\n",
    "    \"consumer_price\": \"\",\n",
    "    \"consumer_reward_rate\": \"\",\n",
    "    \"detail_image_path\": \"\",\n",
    "    \"discount_rate\": \"\",\n",
    "    \"image_path\": \"\",\n",
    "    \"is_available_multiple_option\": \"\",\n",
    "    \"is_exposed\": \"\",\n",
    "    \"manufacturer_name\": \"\",\n",
    "    \"margin_rate\": \"\",\n",
    "    \"name\": \"\",\n",
    "    \"product_code\": \"\",\n",
    "    \"product_priority\": \"\",\n",
    "    \"product_status\": \"\",\n",
    "    \"sale_alternatives\": \"\",\n",
    "    \"sale_price\": \"\",\n",
    "    \"supplier_name\": \"\",\n",
    "    \"supply_price\": \"\",\n",
    "    \"tax_rate\": \"\",\n",
    "    \"tax_status\": \"\",\n",
    "    \"product_category_id\": \"\",\n",
    "    \"shipping_info_id\": \"\",\n",
    "    \"prod_obs_ctrl_num\": \"\",\n",
    "    \"product_brand_id\": \"\",\n",
    "    \"supplier_url\": \"\"\n",
    "}"
   ]
  },
  {
   "cell_type": "code",
   "execution_count": 43,
   "id": "ff728a29-ba0a-40c4-9fcb-2714c266b2d9",
   "metadata": {},
   "outputs": [
    {
     "data": {
      "text/plain": [
       "{'created_at': '2024-03-29 00:00:00.000000',\n",
       " 'updated_at': '2024-03-29 00:00:00.000000',\n",
       " 'brand_name': '크림 캔디',\n",
       " 'business_reward_rate': 0,\n",
       " 'consumer_price': 23130.0,\n",
       " 'consumer_reward_rate': 0.03,\n",
       " 'detail_image_path': 'https://shop-phinf.pstatic.net/20220504_10/1651636690499cgHKS_JPEG/1-vert.jpg?type=w860',\n",
       " 'discount_rate': 0.5,\n",
       " 'image_path': 'http://cdn1.domeggook.com/upload/item/2023/08/25/16929030530D40404F71E80D988AFFAA/16929030530D40404F71E80D988AFFAA_img_760?hash=f361ded5d8b9f8d5f0aaf9dfac685708',\n",
       " 'is_available_multiple_option': 0,\n",
       " 'is_exposed': 1,\n",
       " 'manufacturer_name': '루퍼시',\n",
       " 'margin_rate': 0.1,\n",
       " 'name': '여성 여자 맨투맨 라운드 티셔츠 긴팔 데일리 캐주얼 빅사이즈 큰사이즈 간절기 일상 무지 심플 티',\n",
       " 'product_code': 101400000002,\n",
       " 'product_priority': 61,\n",
       " 'product_status': 'ACTIVE',\n",
       " 'sale_alternatives': '다 팔렸습니다.',\n",
       " 'sale_price': 11560,\n",
       " 'supplier_name': '도매꾹',\n",
       " 'supply_price': 13000,\n",
       " 'tax_rate': 0.018,\n",
       " 'tax_status': 'TAX',\n",
       " 'product_category_id': 14,\n",
       " 'shipping_info_id': 1,\n",
       " 'prod_obs_ctrl_num': 0,\n",
       " 'product_brand_id': 14,\n",
       " 'supplier_url': 'https://mirror1.domeggook.com/40615542?from=lstGen'}"
      ]
     },
     "execution_count": 43,
     "metadata": {},
     "output_type": "execute_result"
    }
   ],
   "source": [
    "sql_template"
   ]
  },
  {
   "cell_type": "code",
   "execution_count": 63,
   "id": "e2733c91-f69a-4cb0-9b63-3ce1ba82a1aa",
   "metadata": {},
   "outputs": [],
   "source": [
    "sql_list = []"
   ]
  },
  {
   "cell_type": "code",
   "execution_count": 64,
   "id": "a3affe13-683f-4fc7-98e3-fb83e1b4ab67",
   "metadata": {},
   "outputs": [],
   "source": [
    "for pd_d in pandas_data.to_dict(orient='records'):\n",
    "    for key, value in sql_template.items():\n",
    "        try:\n",
    "            sql_template[key] = pd_d[key]\n",
    "        except Exception as e:\n",
    "            print(key)\n",
    "            pass\n",
    "    key_data_name = ', '.join([f\"`{item}`\" for item in list(sql_template.keys())])\n",
    "    value_data_name = list_to_string(list(sql_template.values()))\n",
    "    sql_ = f\"INSERT INTO `{db_name}`.`{table_name}` ({key_data_name}) VALUES ({value_data_name});\"\n",
    "    sql_list.append(sql_)\n"
   ]
  },
  {
   "cell_type": "code",
   "execution_count": 71,
   "id": "5409bac8-47e9-4454-99ce-052fad0b38a3",
   "metadata": {},
   "outputs": [],
   "source": [
    "with open(\"./data/sql/data.sql\",\"w\") as f:\n",
    "    f.write(\"\\n\".join(sql_list))"
   ]
  },
  {
   "cell_type": "code",
   "execution_count": null,
   "id": "2199a8e8-7159-4189-8550-7aa2b30439ad",
   "metadata": {},
   "outputs": [],
   "source": []
  }
 ],
 "metadata": {
  "kernelspec": {
   "display_name": "Python 3 (ipykernel)",
   "language": "python",
   "name": "python3"
  },
  "language_info": {
   "codemirror_mode": {
    "name": "ipython",
    "version": 3
   },
   "file_extension": ".py",
   "mimetype": "text/x-python",
   "name": "python",
   "nbconvert_exporter": "python",
   "pygments_lexer": "ipython3",
   "version": "3.12.0"
  }
 },
 "nbformat": 4,
 "nbformat_minor": 5
}
